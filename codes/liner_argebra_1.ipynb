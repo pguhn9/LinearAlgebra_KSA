{
 "cells": [
  {
   "cell_type": "code",
   "execution_count": 88,
   "id": "30a457a6",
   "metadata": {
    "scrolled": true
   },
   "outputs": [
    {
     "name": "stdout",
     "output_type": "stream",
     "text": [
      "[[ 0.  0.  5. 13.  9.  1.  0.  0.]\n",
      " [ 0.  0. 13. 15. 10. 15.  5.  0.]\n",
      " [ 0.  3. 15.  2.  0. 11.  8.  0.]\n",
      " [ 0.  4. 12.  0.  0.  8.  8.  0.]\n",
      " [ 0.  5.  8.  0.  0.  9.  8.  0.]\n",
      " [ 0.  4. 11.  0.  1. 12.  7.  0.]\n",
      " [ 0.  2. 14.  5. 10. 12.  0.  0.]\n",
      " [ 0.  0.  6. 13. 10.  0.  0.  0.]]\n"
     ]
    },
    {
     "data": {
      "image/png": "[encoded data removed]",
      "text/plain": [
       "<Figure size 432x288 with 1 Axes>"
      ]
     },
     "metadata": {
      "needs_background": "light"
     },
     "output_type": "display_data"
    }
   ],
   "source": [
    "from sklearn.datasets import load_digits\n",
    "import matplotlib.pyplot as plt\n",
    "import numpy as np\n",
    "digits = load_digits()\n",
    "d1 = digits.images[0]\n",
    "e1 = digits.images[20]\n",
    "plt.imshow(d1)\n",
    "# 데이타 확인\n",
    "# d1 데이터 형식과 크기, data 숫자 확인 0인거 1인거. 코사인 유사도를 구할 것.\n",
    "print(d1)\n",
    "#8x8 이제 벡터로 바꿔야함. 내적이랑 놈을 구해야함.(앞에 있음) 이러면 코사인 유사도 값을 구할 수 있다.\n",
    "\n",
    "#클래스 0~9  0이랑 0비교하고 싶으면 10번째를 비교하면됨."
   ]
  },
  {
   "cell_type": "code",
   "execution_count": 89,
   "id": "99bd9d2d",
   "metadata": {},
   "outputs": [
    {
     "name": "stdout",
     "output_type": "stream",
     "text": [
      "[[ 0.  0.  3. 13. 11.  7.  0.  0.]\n",
      " [ 0.  0. 11. 16. 16. 16.  2.  0.]\n",
      " [ 0.  4. 16.  9.  1. 14.  2.  0.]\n",
      " [ 0.  4. 16.  0.  0. 16.  2.  0.]\n",
      " [ 0.  0. 16.  1.  0. 12.  8.  0.]\n",
      " [ 0.  0. 15.  9.  0. 13.  6.  0.]\n",
      " [ 0.  0.  9. 14.  9. 14.  1.  0.]\n",
      " [ 0.  0.  2. 12. 13.  4.  0.  0.]]\n"
     ]
    },
    {
     "data": {
      "image/png": "[encoded data removed]",
      "text/plain": [
       "<Figure size 432x288 with 1 Axes>"
      ]
     },
     "metadata": {
      "needs_background": "light"
     },
     "output_type": "display_data"
    }
   ],
   "source": [
    "plt.imshow(e1)\n",
    "print(e1)"
   ]
  },
  {
   "cell_type": "code",
   "execution_count": 90,
   "id": "e0551782",
   "metadata": {},
   "outputs": [
    {
     "name": "stdout",
     "output_type": "stream",
     "text": [
      "[ 0.  0.  5. 13.  9.  1.  0.  0.  0.  0. 13. 15. 10. 15.  5.  0.  0.  3.\n",
      " 15.  2.  0. 11.  8.  0.  0.  4. 12.  0.  0.  8.  8.  0.  0.  5.  8.  0.\n",
      "  0.  9.  8.  0.  0.  4. 11.  0.  1. 12.  7.  0.  0.  2. 14.  5. 10. 12.\n",
      "  0.  0.  0.  0.  6. 13. 10.  0.  0.  0.]\n",
      "[ 0.  0.  3. 13. 11.  7.  0.  0.  0.  0. 11. 16. 16. 16.  2.  0.  0.  4.\n",
      " 16.  9.  1. 14.  2.  0.  0.  4. 16.  0.  0. 16.  2.  0.  0.  0. 16.  1.\n",
      "  0. 12.  8.  0.  0.  0. 15.  9.  0. 13.  6.  0.  0.  0.  9. 14.  9. 14.\n",
      "  1.  0.  0.  0.  2. 12. 13.  4.  0.  0.]\n"
     ]
    }
   ],
   "source": [
    "d2=d1.reshape(-1)\n",
    "e2=e1.reshape(-1)\n",
    "print(d2)\n",
    "print(e2)"
   ]
  },
  {
   "cell_type": "code",
   "execution_count": 91,
   "id": "a166613f",
   "metadata": {},
   "outputs": [
    {
     "name": "stdout",
     "output_type": "stream",
     "text": [
      "55.40758070878027\n",
      "64.73793323855806\n"
     ]
    }
   ],
   "source": [
    "d2_norm=np.linalg.norm(d2)\n",
    "e2_norm=np.linalg.norm(e2)\n",
    "print(d2_norm)\n",
    "print(e2_norm)"
   ]
  },
  {
   "cell_type": "code",
   "execution_count": 92,
   "id": "62e89977",
   "metadata": {},
   "outputs": [
    {
     "name": "stdout",
     "output_type": "stream",
     "text": [
      "3290.0\n"
     ]
    }
   ],
   "source": [
    "print(np.dot(d2.T, e2))"
   ]
  },
  {
   "cell_type": "code",
   "execution_count": 93,
   "id": "cdbf67e2",
   "metadata": {},
   "outputs": [
    {
     "name": "stdout",
     "output_type": "stream",
     "text": [
      "0.9172080966229996\n"
     ]
    }
   ],
   "source": [
    "print(np.dot(d2.T, e2)/(d2_norm*e2_norm))"
   ]
  },
  {
   "cell_type": "code",
   "execution_count": 94,
   "id": "ccea07fc",
   "metadata": {},
   "outputs": [],
   "source": [
    "d3=d2.reshape(1, -1)\n",
    "e3=e2.reshape(1, -1)"
   ]
  },
  {
   "cell_type": "code",
   "execution_count": 95,
   "id": "62838907",
   "metadata": {
    "scrolled": false
   },
   "outputs": [
    {
     "name": "stdout",
     "output_type": "stream",
     "text": [
      "[[ 0.  0.  5. 13.  9.  1.  0.  0.  0.  0. 13. 15. 10. 15.  5.  0.  0.  3.\n",
      "  15.  2.  0. 11.  8.  0.  0.  4. 12.  0.  0.  8.  8.  0.  0.  5.  8.  0.\n",
      "   0.  9.  8.  0.  0.  4. 11.  0.  1. 12.  7.  0.  0.  2. 14.  5. 10. 12.\n",
      "   0.  0.  0.  0.  6. 13. 10.  0.  0.  0.]\n",
      " [ 0.  0.  3. 13. 11.  7.  0.  0.  0.  0. 11. 16. 16. 16.  2.  0.  0.  4.\n",
      "  16.  9.  1. 14.  2.  0.  0.  4. 16.  0.  0. 16.  2.  0.  0.  0. 16.  1.\n",
      "   0. 12.  8.  0.  0.  0. 15.  9.  0. 13.  6.  0.  0.  0.  9. 14.  9. 14.\n",
      "   1.  0.  0.  0.  2. 12. 13.  4.  0.  0.]]\n"
     ]
    }
   ],
   "source": [
    "print(np.concatenate((d3, e3),axis=0))"
   ]
  },
  {
   "cell_type": "code",
   "execution_count": 96,
   "id": "e594fa1d",
   "metadata": {},
   "outputs": [],
   "source": [
    "f1=np.concatenate((d3, e3),axis=0)"
   ]
  },
  {
   "cell_type": "code",
   "execution_count": 97,
   "id": "bac1cd9f",
   "metadata": {},
   "outputs": [
    {
     "name": "stdout",
     "output_type": "stream",
     "text": [
      "[[-0.64500196 -0.76418092]\n",
      " [-0.76418092  0.64500196]]\n",
      "[83.47396732 17.12006952]\n",
      "[[ 5.73443739e-17  0.00000000e+00 -6.60990812e-02 ... -3.66188857e-02\n",
      "   0.00000000e+00  0.00000000e+00]\n",
      " [-2.35994126e-16  0.00000000e+00 -1.10157187e-01 ...  1.50700780e-01\n",
      "   0.00000000e+00  0.00000000e+00]\n",
      " [-9.02403595e-02  9.14350695e-02  9.83496306e-01 ...  1.41802994e-02\n",
      "   0.00000000e+00  0.00000000e+00]\n",
      " ...\n",
      " [ 3.77302356e-17 -1.55086002e-01  1.41802994e-02 ...  9.75948332e-01\n",
      "   0.00000000e+00  0.00000000e+00]\n",
      " [ 0.00000000e+00  0.00000000e+00  0.00000000e+00 ...  0.00000000e+00\n",
      "   1.00000000e+00  0.00000000e+00]\n",
      " [ 0.00000000e+00  0.00000000e+00  0.00000000e+00 ...  0.00000000e+00\n",
      "   0.00000000e+00  1.00000000e+00]]\n"
     ]
    }
   ],
   "source": [
    "u, s, vh = np.linalg.svd(f1)\n",
    "print(u)\n",
    "print(s)\n",
    "print(vh)"
   ]
  },
  {
   "cell_type": "code",
   "execution_count": null,
   "id": "867c642b",
   "metadata": {},
   "outputs": [],
   "source": []
  },
  {
   "cell_type": "code",
   "execution_count": null,
   "id": "6dbeec0a",
   "metadata": {},
   "outputs": [],
   "source": []
  },
  {
   "cell_type": "code",
   "execution_count": null,
   "id": "eaaf06a0",
   "metadata": {},
   "outputs": [],
   "source": []
  },
  {
   "cell_type": "code",
   "execution_count": null,
   "id": "9ad16cb8",
   "metadata": {},
   "outputs": [],
   "source": []
  }
 ],
 "metadata": {
  "kernelspec": {
   "display_name": "Python 3",
   "language": "python",
   "name": "python3"
  },
  "language_info": {
   "codemirror_mode": {
    "name": "ipython",
    "version": 3
   },
   "file_extension": ".py",
   "mimetype": "text/x-python",
   "name": "python",
   "nbconvert_exporter": "python",
   "pygments_lexer": "ipython3",
   "version": "3.7.10"
  }
 },
 "nbformat": 4,
 "nbformat_minor": 5
}
